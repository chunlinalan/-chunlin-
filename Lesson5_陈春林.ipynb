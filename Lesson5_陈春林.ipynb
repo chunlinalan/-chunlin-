{
 "cells": [
  {
   "cell_type": "markdown",
   "metadata": {},
   "source": [
    "各位同学，大家好!  欢迎各位开始学习我们的人工智能课程。  \n",
    "这门课程假设大家不具备机器学习和人工智能的知识，但是希望大家具备初级的Python编程能力。  \n",
    "这门课程结束后，希望大家掌握Python语言以及人工智能基础知识，对CV，NLP，RS领域有一定深入的理解与编程能力。"
   ]
  },
  {
   "cell_type": "markdown",
   "metadata": {},
   "source": [
    "# 本次作业要求"
   ]
  },
  {
   "cell_type": "markdown",
   "metadata": {},
   "source": [
    "## 作业形式"
   ]
  },
  {
   "cell_type": "markdown",
   "metadata": {},
   "source": [
    "复现课程代码  \n",
    "完成课后作业"
   ]
  },
  {
   "cell_type": "markdown",
   "metadata": {},
   "source": [
    "## 作业提交方式"
   ]
  },
  {
   "cell_type": "markdown",
   "metadata": {},
   "source": [
    "完成填写此`jupyter`文件，提交至自己的github，或通过KKB作业平台提交附件"
   ]
  },
  {
   "cell_type": "markdown",
   "metadata": {},
   "source": [
    "## 作业截止时间"
   ]
  },
  {
   "cell_type": "markdown",
   "metadata": {},
   "source": [
    "每次课程作业都会在下次课程(2019年11月8日)进行讲解，请在一周内尽快提交。  \n",
    "此次作业批改截止时间：2019年11月15日"
   ]
  },
  {
   "cell_type": "markdown",
   "metadata": {},
   "source": [
    "# 完成以下问答和编程练习"
   ]
  },
  {
   "cell_type": "markdown",
   "metadata": {},
   "source": [
    "**理论部分**\n",
    "1. 验证多重继承的属性规则，请选择\n",
    "- 就近原则\n",
    "- 随机原则\n",
    "- 类定义的先后原则"
   ]
  },
  {
   "cell_type": "code",
   "execution_count": 1,
   "metadata": {},
   "outputs": [
    {
     "name": "stdout",
     "output_type": "stream",
     "text": [
      "A0\n",
      "1\n"
     ]
    }
   ],
   "source": [
    "class A0:\n",
    "    name = 'A0'\n",
    "    \n",
    "class A2(A0):\n",
    "    num = 2\n",
    "    \n",
    "class A1:\n",
    "    num = 1\n",
    "    \n",
    "class A3:\n",
    "    name = 'A3'\n",
    "    \n",
    "class A4(A1,A2,A3):\n",
    "    pass\n",
    " \n",
    "ins = A4()\n",
    "print(ins.name) # \n",
    "print(ins.num) # \n",
    "#定义先后顺序"
   ]
  },
  {
   "cell_type": "markdown",
   "metadata": {},
   "source": [
    "**编程实践部分**"
   ]
  },
  {
   "cell_type": "markdown",
   "metadata": {},
   "source": [
    "1. 完成ATM的类实现  \n",
    "将第二次课程的ATM机器改写成类实现\n"
   ]
  },
  {
   "cell_type": "code",
   "execution_count": 3,
   "metadata": {},
   "outputs": [
    {
     "name": "stdout",
     "output_type": "stream",
     "text": [
      "\n",
      "1.查询\n",
      "2.存款\n",
      "3.取款\n",
      "4.退出\n",
      "    \n",
      "请选择功能对应数字1\n",
      "您当前的账户余额为：0\n",
      "\n",
      "1.查询\n",
      "2.存款\n",
      "3.取款\n",
      "4.退出\n",
      "    \n",
      "请选择功能对应数字2\n",
      "请输入存款金额：5\n",
      "您当前的账户余额为：5\n",
      "\n",
      "1.查询\n",
      "2.存款\n",
      "3.取款\n",
      "4.退出\n",
      "    \n",
      "请选择功能对应数字2\n",
      "请输入存款金额：3\n",
      "您当前的账户余额为：8\n",
      "\n",
      "1.查询\n",
      "2.存款\n",
      "3.取款\n",
      "4.退出\n",
      "    \n",
      "请选择功能对应数字2\n",
      "请输入存款金额：4\n",
      "您当前的账户余额为：12\n",
      "\n",
      "1.查询\n",
      "2.存款\n",
      "3.取款\n",
      "4.退出\n",
      "    \n",
      "请选择功能对应数字2\n",
      "请输入存款金额：4\n",
      "您当前的账户余额为：16\n",
      "\n",
      "1.查询\n",
      "2.存款\n",
      "3.取款\n",
      "4.退出\n",
      "    \n",
      "请选择功能对应数字4\n"
     ]
    }
   ],
   "source": [
    "class ATM:\n",
    "#功能目录\n",
    "    menu=\"\"\"\n",
    "1.查询\n",
    "2.存款\n",
    "3.取款\n",
    "4.退出\n",
    "    \"\"\"\n",
    "#初始化\n",
    "    def __init__(self,account_balances):\n",
    "        self.account_balances=account_balances\n",
    "        \n",
    "#交互\n",
    "    def manager(self,fuc=0):\n",
    "        while fuc!=4:\n",
    "            print(ATM.menu)  \n",
    "            try:\n",
    "                fuc=int(input(\"请选择功能对应数字\"))\n",
    "            except Exception:\n",
    "                 print(\"输入数据类型错误！\")\n",
    "            if fuc==1:\n",
    "                self.check()\n",
    "            elif fuc==2:\n",
    "                self.save()\n",
    "            elif  fuc==3:\n",
    "                self.withdraw()\n",
    "            elif fuc!=4:\n",
    "                print(\"您输入功能不存在，请输入正确的序号：\")\n",
    " #功能实现：               \n",
    "    def check(self):\n",
    "        print(\"您当前的账户余额为：\"+str(self.account_balances))\n",
    "        \n",
    "    def save(self):\n",
    "        money=int(input(\"请输入存款金额：\"))\n",
    "        self.account_balances+=money\n",
    "        print(\"您当前的账户余额为：\"+str(self.account_balances))\n",
    "        \n",
    "    def withdraw(self):\n",
    "        money= int(input(\"请输入取款金额：\"))\n",
    "        if money>self.account_balances:\n",
    "            print(\"取款金额过大，账户余额为 %s，请重新输入!\"%(self.account_balances))\n",
    "        else:\n",
    "            self.account_balances-=money\n",
    "            print(\"您当前的账户余额为：\"+str(self.account_balances))\n",
    "#实例  ：          \n",
    "start=ATM(0)\n",
    "start.manager()\n"
   ]
  },
  {
   "cell_type": "markdown",
   "metadata": {},
   "source": [
    "2. 练习会先提供一个李靖类，用以记录人物角色的战斗力。需要你创建一个子类哪吒类，提供属性和参数的修改。  \n",
    "要求： 在哪吒的初始化方法中，默认添加`['混天绫', '乾坤圈']` 两个装备,以及初始化战斗力为50."
   ]
  },
  {
   "cell_type": "code",
   "execution_count": 8,
   "metadata": {},
   "outputs": [
    {
     "name": "stdout",
     "output_type": "stream",
     "text": [
      "['七宝玲珑塔']\n",
      "60\n"
     ]
    }
   ],
   "source": [
    "# 代码不用修改，读懂后运行即可。\n",
    "class Lijing: # 李靖\n",
    "    # 初始化函数，为每个实例创建4个参数（其中后3个参数有默认值）\n",
    "    def __init__(self, name, weapons=[], power=10): \n",
    "        self.name = name\n",
    "        self.weapons = weapons\n",
    "        self.power = power\n",
    "\n",
    "    def count_fight(self, weapon, weapon_power):\n",
    "        self.weapons.append(weapon)\n",
    "        self.power += weapon_power  # 总战力=武器战力之和\n",
    "\n",
    "lijing = Lijing('李靖')\n",
    "lijing.count_fight('七宝玲珑塔', 50)  # 七宝玲珑塔 战力 50\n",
    "print(lijing.weapons)\n",
    "print(lijing.power)"
   ]
  },
  {
   "cell_type": "code",
   "execution_count": 21,
   "metadata": {},
   "outputs": [
    {
     "name": "stdout",
     "output_type": "stream",
     "text": [
      "[]\n",
      "['混天绫', '乾坤圈']\n",
      "['七宝玲珑塔']\n",
      "60\n",
      "['混天绫', '乾坤圈', '火尖枪']\n",
      "90\n"
     ]
    }
   ],
   "source": [
    "class Lijing: # 李靖\n",
    "    # 初始化函数，为每个实例创建4个参数（其中后3个参数有默认值）\n",
    "    def __init__(self, name, weapons=[], power=10): \n",
    "        self.name = name\n",
    "        self.weapons = weapons\n",
    "        self.power = power\n",
    "\n",
    "    def count_fight(self, weapon, weapon_power):\n",
    "        self.weapons.append(weapon)\n",
    "        self.power += weapon_power  # 总战力=武器战力之和\n",
    "        \n",
    "# your code here        \n",
    "# 请你完成子类的定制（包括初始化方法和count_fight函数）\n",
    "class Nezha(Lijing): # 哪吒\n",
    "    def __init__(self,name, weapons=[\"混天绫\",\"乾坤圈\"], power=50):\n",
    "        self.name = name\n",
    "        self.weapons = weapons\n",
    "        self.power = power\n",
    "    def conunt_fight(self,weapon, weapon_power):\n",
    "        self.weapons.append(weapon)\n",
    "        self.power += weapon_power  # 总战力=武器战力之和\n",
    "    \n",
    "# 通过两个实例，完成子类和父类的对比（可自行验证）\n",
    "lijing = Lijing('李靖')\n",
    "nezha = Nezha('哪吒')\n",
    "print(lijing.weapons)\n",
    "print(nezha.weapons)\n",
    "lijing.count_fight('七宝玲珑塔', 50)  # 七宝玲珑塔 战力 50\n",
    "print(lijing.weapons)\n",
    "print(lijing.power)\n",
    "nezha.count_fight('火尖枪', 40)  #\n",
    "print(nezha.weapons)\n",
    "print(nezha.power)"
   ]
  },
  {
   "cell_type": "code",
   "execution_count": null,
   "metadata": {},
   "outputs": [],
   "source": []
  }
 ],
 "metadata": {
  "kernelspec": {
   "display_name": "Python 3",
   "language": "python",
   "name": "python3"
  },
  "language_info": {
   "codemirror_mode": {
    "name": "ipython",
    "version": 3
   },
   "file_extension": ".py",
   "mimetype": "text/x-python",
   "name": "python",
   "nbconvert_exporter": "python",
   "pygments_lexer": "ipython3",
   "version": "3.7.3"
  }
 },
 "nbformat": 4,
 "nbformat_minor": 4
}
